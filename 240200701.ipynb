{
  "nbformat": 4,
  "nbformat_minor": 0,
  "metadata": {
    "colab": {
      "provenance": [],
      "authorship_tag": "ABX9TyMjpEDXX6E8rIUiYj3uODUA",
      "include_colab_link": true
    },
    "kernelspec": {
      "name": "python3",
      "display_name": "Python 3"
    },
    "language_info": {
      "name": "python"
    }
  },
  "cells": [
    {
      "cell_type": "markdown",
      "metadata": {
        "id": "view-in-github",
        "colab_type": "text"
      },
      "source": [
        "<a href=\"https://colab.research.google.com/github/PrashantSBasnet/L7_Maths/blob/master/240200701.ipynb\" target=\"_parent\"><img src=\"https://colab.research.google.com/assets/colab-badge.svg\" alt=\"Open In Colab\"/></a>"
      ]
    },
    {
      "cell_type": "code",
      "execution_count": 1,
      "metadata": {
        "id": "zZclAcxybTgz"
      },
      "outputs": [],
      "source": [
        "import numpy as np"
      ]
    },
    {
      "cell_type": "markdown",
      "source": [
        "Step 1. Writing the student number in array form. Let us suppose it as A matrix."
      ],
      "metadata": {
        "id": "Ct0ehN16ca6s"
      }
    },
    {
      "cell_type": "code",
      "source": [
        "A = np.array([[2, 4, 0],\n",
        "              [2, 0, 0],\n",
        "              [7, 0, 1]])"
      ],
      "metadata": {
        "id": "52JGKeEhbw9J"
      },
      "execution_count": 2,
      "outputs": []
    },
    {
      "cell_type": "markdown",
      "source": [
        "1. Determinant"
      ],
      "metadata": {
        "id": "dlCLtIUgcnOR"
      }
    },
    {
      "cell_type": "code",
      "source": [
        "requiredDet = np.linalg.det(A)\n",
        "print(\"Determinant:\", requiredDet)"
      ],
      "metadata": {
        "colab": {
          "base_uri": "https://localhost:8080/"
        },
        "id": "CuY8nNgScqD3",
        "outputId": "5aa9e456-6594-403a-f541-b7bacbb4131e"
      },
      "execution_count": 3,
      "outputs": [
        {
          "output_type": "stream",
          "name": "stdout",
          "text": [
            "Determinant: -7.999999999999998\n"
          ]
        }
      ]
    },
    {
      "cell_type": "markdown",
      "source": [
        "2. To check whether it is singular or not, we know by the definition,\n",
        "\n",
        "*   A square matrix whose determinant is zero is a singular matrix\n",
        "\n",
        "Now, since the calculated determinant is not zero, the matrix is not a singular.\n",
        "\n"
      ],
      "metadata": {
        "id": "kDhDg9EOczcc"
      }
    },
    {
      "cell_type": "code",
      "source": [
        "if requiredDet == 0:\n",
        "    print(\"Matrix is singular (non-invertible).\")\n",
        "else:\n",
        "    print(\"Matrix is not singular (invertible).\")"
      ],
      "metadata": {
        "colab": {
          "base_uri": "https://localhost:8080/"
        },
        "id": "4A_J-9juc213",
        "outputId": "572621e9-e810-4cbb-8826-97b950d9aacc"
      },
      "execution_count": 6,
      "outputs": [
        {
          "output_type": "stream",
          "name": "stdout",
          "text": [
            "Matrix is not singular (invertible).\n"
          ]
        }
      ]
    },
    {
      "cell_type": "markdown",
      "source": [
        "3. Since the matrix is not singular, its inverse computable as follows:"
      ],
      "metadata": {
        "id": "KwDuQZuSd8fW"
      }
    },
    {
      "cell_type": "code",
      "source": [
        "if requiredDet != 0:\n",
        "    Required_inverse = np.linalg.inv(A)\n",
        "    print(\"Inverse of matrix A:\")\n",
        "    print(Required_inverse)\n",
        "else:\n",
        "    print(\"Matrix is not singular (invertible) and inverse cannot be calculated\")"
      ],
      "metadata": {
        "colab": {
          "base_uri": "https://localhost:8080/"
        },
        "id": "em6vYG2AeB2M",
        "outputId": "1d429d25-eb01-4968-99b1-244ce43b370b"
      },
      "execution_count": 9,
      "outputs": [
        {
          "output_type": "stream",
          "name": "stdout",
          "text": [
            "Inverse of matrix A:\n",
            "[[ 0.    0.5   0.  ]\n",
            " [ 0.25 -0.25  0.  ]\n",
            " [-0.   -3.5   1.  ]]\n"
          ]
        }
      ]
    },
    {
      "cell_type": "markdown",
      "source": [
        "4. Calculate and print the product of the original matrix and its\n",
        "transpose.\n",
        "\n",
        "\n",
        "*   Step1 : Finding the transpose matrix as follows:\n",
        "\n",
        "\n",
        "\n"
      ],
      "metadata": {
        "id": "G15pxX_HgCS9"
      }
    },
    {
      "cell_type": "code",
      "source": [
        "A_transpose = np.transpose(A)"
      ],
      "metadata": {
        "id": "bwUL6H6SgN-P"
      },
      "execution_count": 10,
      "outputs": []
    },
    {
      "cell_type": "markdown",
      "source": [
        "\n",
        "\n",
        "*   Step2: Finding the product of the original matrix and its transpose as follows:\n",
        "\n",
        "\n"
      ],
      "metadata": {
        "id": "w_4SVMMjgT8G"
      }
    },
    {
      "cell_type": "code",
      "source": [
        "product = np.dot(A_transpose, A)"
      ],
      "metadata": {
        "id": "j1t-Sn5mgbM_"
      },
      "execution_count": 11,
      "outputs": []
    },
    {
      "cell_type": "code",
      "source": [
        "print(\"Product of transpose(A) with A:\")\n",
        "print(product)"
      ],
      "metadata": {
        "colab": {
          "base_uri": "https://localhost:8080/"
        },
        "id": "X0xjt3T-ghj4",
        "outputId": "ec8f02d4-7dcc-4d7d-d043-db5acdda83cf"
      },
      "execution_count": 12,
      "outputs": [
        {
          "output_type": "stream",
          "name": "stdout",
          "text": [
            "Product of transpose(A) with A:\n",
            "[[57  8  7]\n",
            " [ 8 16  0]\n",
            " [ 7  0  1]]\n"
          ]
        }
      ]
    },
    {
      "cell_type": "markdown",
      "source": [
        "5. Calculate and print the sum of the diagonal elements of the matrix\n",
        "obtained in step 4\n",
        "\n",
        "\n",
        "*   Step: We can use np.trace() function to find the sum of the diagonal\n",
        "\n"
      ],
      "metadata": {
        "id": "u4WpXbiSg1hh"
      }
    },
    {
      "cell_type": "code",
      "source": [
        "requiredSum_diagonal = np.trace(product) #as asked in the question\n",
        "print (\"Sum of the diagonal elements:\", requiredSum_diagonal )\n"
      ],
      "metadata": {
        "colab": {
          "base_uri": "https://localhost:8080/"
        },
        "id": "csbYSijrhCey",
        "outputId": "a6cb2925-73ce-4764-9e77-3c6c994f6eff"
      },
      "execution_count": 13,
      "outputs": [
        {
          "output_type": "stream",
          "name": "stdout",
          "text": [
            "Sum of the diagonal elements: 74\n"
          ]
        }
      ]
    }
  ]
}