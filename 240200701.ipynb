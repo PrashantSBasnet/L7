{
  "nbformat": 4,
  "nbformat_minor": 0,
  "metadata": {
    "colab": {
      "provenance": [],
      "include_colab_link": true
    },
    "kernelspec": {
      "name": "python3",
      "display_name": "Python 3"
    },
    "language_info": {
      "name": "python"
    }
  },
  "cells": [
    {
      "cell_type": "markdown",
      "metadata": {
        "id": "view-in-github",
        "colab_type": "text"
      },
      "source": [
        "<a href=\"https://colab.research.google.com/github/PrashantSBasnet/L7_Maths/blob/master/240200701.ipynb\" target=\"_parent\"><img src=\"https://colab.research.google.com/assets/colab-badge.svg\" alt=\"Open In Colab\"/></a>"
      ]
    },
    {
      "cell_type": "code",
      "execution_count": 23,
      "metadata": {
        "id": "zZclAcxybTgz"
      },
      "outputs": [],
      "source": [
        "import numpy as np"
      ]
    },
    {
      "cell_type": "markdown",
      "source": [
        "Step 1. Writing the student number in array form and appending '1' as given in the question."
      ],
      "metadata": {
        "id": "Ct0ehN16ca6s"
      }
    },
    {
      "cell_type": "code",
      "source": [
        "#student id\n",
        "number = 24020070\n",
        "\n",
        "# Appending '1' to the student id as given in the question\n",
        "new_number = int(str(number) + '1')\n",
        "\n",
        "# Converting the number into a string\n",
        "number_str = str(new_number)\n",
        "\n",
        "# Splitting the string into individual characters\n",
        "digits = list(number_str)\n",
        "\n",
        "#converting the digits into int because det(A) doesn't support int\n",
        "digits = [int(digit) for digit in digits]\n",
        "\n",
        "# Reshaping the digits into a 3x3 matrix\n",
        "A = np.array(digits).reshape(3, 3)\n",
        "\n",
        "print(A)\n"
      ],
      "metadata": {
        "id": "TloCd61bfaRh",
        "outputId": "8fc44eb2-70d8-48cf-9b55-c7de0033874b",
        "colab": {
          "base_uri": "https://localhost:8080/"
        }
      },
      "execution_count": 34,
      "outputs": [
        {
          "output_type": "stream",
          "name": "stdout",
          "text": [
            "[[2 4 0]\n",
            " [2 0 0]\n",
            " [7 0 1]]\n"
          ]
        }
      ]
    },
    {
      "cell_type": "code",
      "source": [
        "Alternatively = np.array([[2,4,0],\n",
        "                          [2,0,0],\n",
        "                          [7,0,1]])\n",
        "print (Alternatively)"
      ],
      "metadata": {
        "id": "wC4ME0hyiPDV",
        "outputId": "e3e99cdf-3c0b-45e2-ce6d-8fffad1cc28e",
        "colab": {
          "base_uri": "https://localhost:8080/"
        }
      },
      "execution_count": 33,
      "outputs": [
        {
          "output_type": "stream",
          "name": "stdout",
          "text": [
            "[[2 4 0]\n",
            " [2 0 0]\n",
            " [7 0 1]]\n"
          ]
        }
      ]
    },
    {
      "cell_type": "markdown",
      "source": [
        "1. Determinant"
      ],
      "metadata": {
        "id": "dlCLtIUgcnOR"
      }
    },
    {
      "cell_type": "code",
      "source": [
        "requiredDet = np.linalg.det(A)\n",
        "print(\"Determinant:\", requiredDet)"
      ],
      "metadata": {
        "colab": {
          "base_uri": "https://localhost:8080/"
        },
        "id": "CuY8nNgScqD3",
        "outputId": "2431934f-2b47-4020-c789-134c84e8a8a3"
      },
      "execution_count": 27,
      "outputs": [
        {
          "output_type": "stream",
          "name": "stdout",
          "text": [
            "Determinant: -7.999999999999998\n"
          ]
        }
      ]
    },
    {
      "cell_type": "markdown",
      "source": [
        "2. To check whether it is singular or not, we know by the definition,\n",
        "\n",
        "*   A square matrix whose determinant is zero is a singular matrix\n",
        "\n",
        "Now, since the calculated determinant is not zero, the matrix is not a singular.\n",
        "\n"
      ],
      "metadata": {
        "id": "kDhDg9EOczcc"
      }
    },
    {
      "cell_type": "code",
      "source": [
        "if requiredDet == 0:\n",
        "    print(\"Matrix is singular (non-invertible).\")\n",
        "else:\n",
        "    print(\"Matrix is not singular (invertible).\")"
      ],
      "metadata": {
        "colab": {
          "base_uri": "https://localhost:8080/"
        },
        "id": "4A_J-9juc213",
        "outputId": "572621e9-e810-4cbb-8826-97b950d9aacc"
      },
      "execution_count": null,
      "outputs": [
        {
          "output_type": "stream",
          "name": "stdout",
          "text": [
            "Matrix is not singular (invertible).\n"
          ]
        }
      ]
    },
    {
      "cell_type": "markdown",
      "source": [
        "3. Since the matrix is not singular, its inverse computable as follows:"
      ],
      "metadata": {
        "id": "KwDuQZuSd8fW"
      }
    },
    {
      "cell_type": "code",
      "source": [
        "if requiredDet != 0:\n",
        "    Required_inverse = np.linalg.inv(A)\n",
        "    print(\"Inverse of matrix A:\")\n",
        "    print(Required_inverse)\n",
        "else:\n",
        "    print(\"Matrix is not singular (invertible) and inverse cannot be calculated\")"
      ],
      "metadata": {
        "colab": {
          "base_uri": "https://localhost:8080/"
        },
        "id": "em6vYG2AeB2M",
        "outputId": "1d429d25-eb01-4968-99b1-244ce43b370b"
      },
      "execution_count": null,
      "outputs": [
        {
          "output_type": "stream",
          "name": "stdout",
          "text": [
            "Inverse of matrix A:\n",
            "[[ 0.    0.5   0.  ]\n",
            " [ 0.25 -0.25  0.  ]\n",
            " [-0.   -3.5   1.  ]]\n"
          ]
        }
      ]
    },
    {
      "cell_type": "markdown",
      "source": [
        "4. Calculate and print the product of the original matrix and its\n",
        "transpose.\n",
        "\n",
        "\n",
        "*   Step1 : Finding the transpose matrix as follows:\n",
        "\n",
        "\n",
        "\n"
      ],
      "metadata": {
        "id": "G15pxX_HgCS9"
      }
    },
    {
      "cell_type": "code",
      "source": [
        "A_transpose = np.transpose(A)"
      ],
      "metadata": {
        "id": "bwUL6H6SgN-P"
      },
      "execution_count": null,
      "outputs": []
    },
    {
      "cell_type": "markdown",
      "source": [
        "\n",
        "\n",
        "*   Step2: Finding the product of the original matrix and its transpose as follows:\n",
        "\n",
        "\n"
      ],
      "metadata": {
        "id": "w_4SVMMjgT8G"
      }
    },
    {
      "cell_type": "code",
      "source": [
        "product = np.dot(A_transpose, A)"
      ],
      "metadata": {
        "id": "j1t-Sn5mgbM_"
      },
      "execution_count": null,
      "outputs": []
    },
    {
      "cell_type": "code",
      "source": [
        "print(\"Product of transpose(A) with A:\")\n",
        "print(product)"
      ],
      "metadata": {
        "colab": {
          "base_uri": "https://localhost:8080/"
        },
        "id": "X0xjt3T-ghj4",
        "outputId": "ec8f02d4-7dcc-4d7d-d043-db5acdda83cf"
      },
      "execution_count": null,
      "outputs": [
        {
          "output_type": "stream",
          "name": "stdout",
          "text": [
            "Product of transpose(A) with A:\n",
            "[[57  8  7]\n",
            " [ 8 16  0]\n",
            " [ 7  0  1]]\n"
          ]
        }
      ]
    },
    {
      "cell_type": "markdown",
      "source": [
        "5. Calculate and print the sum of the diagonal elements of the matrix\n",
        "obtained in step 4\n",
        "\n",
        "\n",
        "*   Step: We can use np.trace() function to find the sum of the diagonal\n",
        "\n"
      ],
      "metadata": {
        "id": "u4WpXbiSg1hh"
      }
    },
    {
      "cell_type": "code",
      "source": [
        "requiredSum_diagonal = np.trace(product) #as asked in the question\n",
        "print (\"Sum of the diagonal elements:\", requiredSum_diagonal )\n"
      ],
      "metadata": {
        "colab": {
          "base_uri": "https://localhost:8080/"
        },
        "id": "csbYSijrhCey",
        "outputId": "a6cb2925-73ce-4764-9e77-3c6c994f6eff"
      },
      "execution_count": null,
      "outputs": [
        {
          "output_type": "stream",
          "name": "stdout",
          "text": [
            "Sum of the diagonal elements: 74\n"
          ]
        }
      ]
    }
  ]
}