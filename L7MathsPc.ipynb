{
  "nbformat": 4,
  "nbformat_minor": 0,
  "metadata": {
    "colab": {
      "provenance": [],
      "authorship_tag": "ABX9TyNpf0Y0cPHSkaaxOuPKP7c9",
      "include_colab_link": true
    },
    "kernelspec": {
      "name": "python3",
      "display_name": "Python 3"
    },
    "language_info": {
      "name": "python"
    }
  },
  "cells": [
    {
      "cell_type": "markdown",
      "metadata": {
        "id": "view-in-github",
        "colab_type": "text"
      },
      "source": [
        "<a href=\"https://colab.research.google.com/github/PrashantSBasnet/L7_Maths/blob/master/L7MathsPc.ipynb\" target=\"_parent\"><img src=\"https://colab.research.google.com/assets/colab-badge.svg\" alt=\"Open In Colab\"/></a>"
      ]
    },
    {
      "cell_type": "markdown",
      "source": [],
      "metadata": {
        "id": "vT2LcLALLpAD"
      }
    },
    {
      "cell_type": "code",
      "source": [
        "import numpy as np"
      ],
      "metadata": {
        "id": "i5f-TsE7qoEM"
      },
      "execution_count": 3,
      "outputs": []
    },
    {
      "cell_type": "markdown",
      "source": [
        "**Matrices**"
      ],
      "metadata": {
        "id": "_NLwRMHnLnU4"
      }
    },
    {
      "cell_type": "code",
      "execution_count": 4,
      "metadata": {
        "id": "3kgPxJqzqlgK"
      },
      "outputs": [],
      "source": [
        "A = np.array([[3, 0,2],\n",
        "              [2, 0,-2],\n",
        "               [0,1,1]])"
      ]
    },
    {
      "cell_type": "code",
      "source": [
        "A_inv = np.linalg.inv(A)\n",
        "print (A_inv)"
      ],
      "metadata": {
        "colab": {
          "base_uri": "https://localhost:8080/"
        },
        "id": "Hj5OTd27JTZ5",
        "outputId": "742edfe3-a0ba-4e5b-a319-f8ac5e11b2b7"
      },
      "execution_count": 6,
      "outputs": [
        {
          "output_type": "stream",
          "name": "stdout",
          "text": [
            "[[ 0.2  0.2  0. ]\n",
            " [-0.2  0.3  1. ]\n",
            " [ 0.2 -0.3 -0. ]]\n"
          ]
        }
      ]
    },
    {
      "cell_type": "code",
      "source": [
        "# Calculate the determinant\n",
        "determinant = np.linalg.det(A)\n",
        "\n",
        "# Print the determinant\n",
        "print(\"Determinant of the matrix:\", determinant)"
      ],
      "metadata": {
        "colab": {
          "base_uri": "https://localhost:8080/"
        },
        "id": "K14fwCnSJue8",
        "outputId": "4297c661-377f-4624-ba43-408afc63baa4"
      },
      "execution_count": 7,
      "outputs": [
        {
          "output_type": "stream",
          "name": "stdout",
          "text": [
            "Determinant of the matrix: 10.000000000000002\n"
          ]
        }
      ]
    },
    {
      "cell_type": "code",
      "source": [
        "A = np.array([\n",
        "             [1,2,3],\n",
        "             [2,3,4],\n",
        "             [3,4,5]\n",
        "             ])\n",
        "\n",
        "B = np.array([\n",
        "             [4,5,6],\n",
        "             [5,6,7],\n",
        "             [6,7,8]\n",
        "             ])\n",
        "\n",
        "\n",
        "print (np.dot(A,B))"
      ],
      "metadata": {
        "colab": {
          "base_uri": "https://localhost:8080/"
        },
        "id": "Eo253q0OK99R",
        "outputId": "9ac76b0d-6e53-4196-b243-a55a95ef5676"
      },
      "execution_count": 11,
      "outputs": [
        {
          "output_type": "stream",
          "name": "stdout",
          "text": [
            "[[32 38 44]\n",
            " [47 56 65]\n",
            " [62 74 86]]\n"
          ]
        }
      ]
    },
    {
      "cell_type": "code",
      "source": [
        "A = np.array([[1, 1,1],\n",
        "              [2, 2,2],\n",
        "               [3,3,3]])\n",
        "\n"
      ],
      "metadata": {
        "id": "cONNCwd2Na2-"
      },
      "execution_count": null,
      "outputs": []
    },
    {
      "cell_type": "code",
      "source": [
        "print (np.exp(2))"
      ],
      "metadata": {
        "colab": {
          "base_uri": "https://localhost:8080/"
        },
        "id": "LHEutP1LT5ZQ",
        "outputId": "d5c14c8c-c699-450c-e2a5-33ca87e100e8"
      },
      "execution_count": 12,
      "outputs": [
        {
          "output_type": "stream",
          "name": "stdout",
          "text": [
            "7.38905609893065\n"
          ]
        }
      ]
    },
    {
      "cell_type": "code",
      "source": [
        "print (np.log(10))"
      ],
      "metadata": {
        "colab": {
          "base_uri": "https://localhost:8080/"
        },
        "id": "cqNlabwVUAov",
        "outputId": "d5267ce1-bdfe-4039-a6fe-d1c0a4343532"
      },
      "execution_count": 13,
      "outputs": [
        {
          "output_type": "stream",
          "name": "stdout",
          "text": [
            "2.302585092994046\n"
          ]
        }
      ]
    },
    {
      "cell_type": "code",
      "source": [
        "a = np.array([1,2,3])\n",
        "print (a)"
      ],
      "metadata": {
        "colab": {
          "base_uri": "https://localhost:8080/"
        },
        "id": "iAvjo_lkUIhV",
        "outputId": "a8193839-53e0-4547-92b7-d5ef2396c82f"
      },
      "execution_count": 14,
      "outputs": [
        {
          "output_type": "stream",
          "name": "stdout",
          "text": [
            "[1 2 3]\n"
          ]
        }
      ]
    },
    {
      "cell_type": "code",
      "source": [
        "b = np.array([4,5,6])"
      ],
      "metadata": {
        "id": "iym5yhuPUQmP"
      },
      "execution_count": 15,
      "outputs": []
    },
    {
      "cell_type": "code",
      "source": [
        "print (np.column_stack([a,b]))"
      ],
      "metadata": {
        "colab": {
          "base_uri": "https://localhost:8080/"
        },
        "id": "Ze2pbMfMUM5x",
        "outputId": "07063761-69ae-40f5-a396-afdda5bf4d1d"
      },
      "execution_count": 17,
      "outputs": [
        {
          "output_type": "stream",
          "name": "stdout",
          "text": [
            "[[1 4]\n",
            " [2 5]\n",
            " [3 6]]\n"
          ]
        }
      ]
    },
    {
      "cell_type": "code",
      "source": [
        "print (np.vstack([a,b]).T)"
      ],
      "metadata": {
        "colab": {
          "base_uri": "https://localhost:8080/"
        },
        "id": "naX8HS9QUbOX",
        "outputId": "2911b8cc-fd4b-499d-8e90-ddc47b41b26e"
      },
      "execution_count": 20,
      "outputs": [
        {
          "output_type": "stream",
          "name": "stdout",
          "text": [
            "[[1 4]\n",
            " [2 5]\n",
            " [3 6]]\n"
          ]
        }
      ]
    },
    {
      "cell_type": "code",
      "source": [
        "print (np.row_stack([a,b]))"
      ],
      "metadata": {
        "colab": {
          "base_uri": "https://localhost:8080/"
        },
        "id": "Sy5T6xvGUnMQ",
        "outputId": "ef611fa6-4c6f-4cf4-f08d-ba494f5373f1"
      },
      "execution_count": 22,
      "outputs": [
        {
          "output_type": "stream",
          "name": "stdout",
          "text": [
            "[[1 2 3]\n",
            " [4 5 6]]\n"
          ]
        }
      ]
    },
    {
      "cell_type": "code",
      "source": [
        "print (np.vstack([a,b]))"
      ],
      "metadata": {
        "colab": {
          "base_uri": "https://localhost:8080/"
        },
        "id": "n3HW3OErUrG3",
        "outputId": "0e94fdd7-130a-42a8-86a4-4cff708101a9"
      },
      "execution_count": 23,
      "outputs": [
        {
          "output_type": "stream",
          "name": "stdout",
          "text": [
            "[[1 2 3]\n",
            " [4 5 6]]\n"
          ]
        }
      ]
    },
    {
      "cell_type": "code",
      "source": [
        "x = np.linspace(-np.pi, np.pi, 10)\n",
        "print(x)\n",
        "print(x[9])\n",
        "print(x[0]) # first element\n",
        "print(x[2]) # third element\n",
        "print(x[-1]) # last element\n",
        "print(x[-2]) # second to last element"
      ],
      "metadata": {
        "colab": {
          "base_uri": "https://localhost:8080/"
        },
        "id": "aM3yphahU34I",
        "outputId": "0098e744-bb42-4cbf-f330-854029248902"
      },
      "execution_count": 27,
      "outputs": [
        {
          "output_type": "stream",
          "name": "stdout",
          "text": [
            "[-3.14159265 -2.44346095 -1.74532925 -1.04719755 -0.34906585  0.34906585\n",
            "  1.04719755  1.74532925  2.44346095  3.14159265]\n",
            "3.141592653589793\n",
            "-3.141592653589793\n",
            "-1.7453292519943295\n",
            "3.141592653589793\n",
            "2.443460952792061\n"
          ]
        }
      ]
    },
    {
      "cell_type": "markdown",
      "source": [
        "**Finding Projection**"
      ],
      "metadata": {
        "id": "o_YSS9dPooIC"
      }
    },
    {
      "cell_type": "code",
      "source": [
        "import numpy as np\n",
        "\n",
        "# Define the vectors\n",
        "vector_a = np.array([1, 2, 3])\n",
        "vector_b = np.array([4, 5, 6])\n",
        "\n",
        "# Calculate the dot product of vector_a and vector_b\n",
        "dot_product = np.dot(vector_a, vector_b)\n",
        "\n",
        "# Calculate the magnitude squared of vector_b\n",
        "magnitude_b_squared = np.dot(vector_b, vector_b)\n",
        "\n",
        "# Calculate the projection of vector_a onto vector_b\n",
        "projection = (dot_product / magnitude_b_squared) * vector_b\n",
        "\n",
        "print(\"Projection of vector_a onto vector_b:\", projection)\n"
      ],
      "metadata": {
        "colab": {
          "base_uri": "https://localhost:8080/"
        },
        "id": "Gi8vumMCondT",
        "outputId": "a39dc472-e332-49f7-88d7-af7ca42e8df9"
      },
      "execution_count": 28,
      "outputs": [
        {
          "output_type": "stream",
          "name": "stdout",
          "text": [
            "Projection of vector_a onto vector_b: [1.66233766 2.07792208 2.49350649]\n"
          ]
        }
      ]
    }
  ]
}